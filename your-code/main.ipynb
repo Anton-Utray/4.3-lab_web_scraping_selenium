{
 "cells": [
  {
   "cell_type": "markdown",
   "metadata": {},
   "source": [
    "# Web Scraping Lab\n",
    "\n",
    "You will find in this notebook some scrapy exercises to practise your scraping skills.\n",
    "\n",
    "**Tips:**\n",
    "\n",
    "- Check the response status code for each request to ensure you have obtained the intended contennt.\n",
    "- Print the response text in each request to understand the kind of info you are getting and its format.\n",
    "- Check for patterns in the response text to extract the data/info requested in each question.\n",
    "- Visit each url and take a look at its source through Chrome DevTools. You'll need to identify the html tags, special class names etc. used for the html content you are expected to extract."
   ]
  },
  {
   "cell_type": "markdown",
   "metadata": {},
   "source": [
    "- [Selenium Doc](https://www.selenium.dev/documentation/)\n",
    "- [Requests library](http://docs.python-requests.org/en/master/#the-user-guide) documentation \n",
    "- [Urllib](https://docs.python.org/3/library/urllib.html#module-urllib)\n",
    "- [re lib](https://docs.python.org/3/library/re.html)\n",
    "- [lxml lib](https://lxml.de/)\n",
    "- [Scrapy](https://scrapy.org/)\n",
    "- [List of HTTP status codes](https://en.wikipedia.org/wiki/List_of_HTTP_status_codes)\n",
    "- [HTML basics](http://www.simplehtmlguide.com/cheatsheet.php)\n",
    "- [CSS basics](https://www.cssbasics.com/#page_start)"
   ]
  },
  {
   "cell_type": "markdown",
   "metadata": {},
   "source": [
    "#### Below are the libraries and modules you may need. `Selenium` and `pandas` are imported for you."
   ]
  },
  {
   "cell_type": "code",
   "execution_count": 47,
   "metadata": {},
   "outputs": [],
   "source": [
    "#%pip install selenium\n",
    "#%pip install webdriver-manager"
   ]
  },
  {
   "cell_type": "code",
   "execution_count": 48,
   "metadata": {},
   "outputs": [],
   "source": [
    "from selenium import webdriver"
   ]
  },
  {
   "cell_type": "code",
   "execution_count": 49,
   "metadata": {},
   "outputs": [],
   "source": [
    "import pandas as pd\n",
    "from selenium.webdriver.chrome.options import Options  \n",
    "from webdriver_manager.chrome import ChromeDriverManager"
   ]
  },
  {
   "cell_type": "code",
   "execution_count": 50,
   "metadata": {},
   "outputs": [],
   "source": [
    "from selenium.webdriver.common.by import By # By es para buscar por tag, clase, id...\n",
    "\n",
    "#import time\n",
    "\n",
    "#import warnings\n",
    "#warnings.filterwarnings('ignore')"
   ]
  },
  {
   "cell_type": "markdown",
   "metadata": {},
   "source": [
    "#### Enable the options you may need. In the next cell you have an example of them but you can choose to use them or not."
   ]
  },
  {
   "cell_type": "code",
   "execution_count": 51,
   "metadata": {},
   "outputs": [
    {
     "name": "stderr",
     "output_type": "stream",
     "text": [
      "C:\\Users\\anton\\AppData\\Local\\Temp\\ipykernel_10476\\4076755805.py:6: DeprecationWarning: headless property is deprecated, instead use add_argument('--headless') or add_argument('--headless=new')\n",
      "  opciones.headless=False    # si True, no aperece la ventana (headless=no visible)\n"
     ]
    }
   ],
   "source": [
    "#driver configuration\n",
    "opciones=Options()\n",
    "\n",
    "opciones.add_experimental_option('excludeSwitches', ['enable-automation'])\n",
    "opciones.add_experimental_option('useAutomationExtension', False)\n",
    "opciones.headless=False    # si True, no aperece la ventana (headless=no visible)\n",
    "opciones.add_argument('--start-maximized')         # comienza maximizado\n",
    "#opciones.add_argument('user-data-dir=selenium')    # mantiene las cookies\n",
    "#opciones.add_extension('driver_folder/adblock.crx')       # adblocker\n",
    "opciones.add_argument('--incognito')"
   ]
  },
  {
   "cell_type": "code",
   "execution_count": 52,
   "metadata": {},
   "outputs": [
    {
     "name": "stderr",
     "output_type": "stream",
     "text": [
      "C:\\Users\\anton\\AppData\\Local\\Temp\\ipykernel_10476\\4249207107.py:2: DeprecationWarning: executable_path has been deprecated, please pass in a Service object\n",
      "  driver = webdriver.Chrome(driver,options = opciones)\n"
     ]
    }
   ],
   "source": [
    "driver = \"./chromedriver.exe\" #remember substitute this for your driver path\n",
    "driver = webdriver.Chrome(driver,options = opciones)"
   ]
  },
  {
   "cell_type": "code",
   "execution_count": 200,
   "metadata": {},
   "outputs": [
    {
     "name": "stderr",
     "output_type": "stream",
     "text": [
      "C:\\Users\\anton\\AppData\\Local\\Temp\\ipykernel_10476\\3896806558.py:3: DeprecationWarning: executable_path has been deprecated, please pass in a Service object\n",
      "  driver = webdriver.Chrome(PATH)      # abre una ventana de chrome\n"
     ]
    }
   ],
   "source": [
    "PATH = ChromeDriverManager().install()    # instala driver de chrome\n",
    "\n",
    "driver = webdriver.Chrome(PATH)      # abre una ventana de chrome\n",
    "\n",
    "driver.get('https://www.google.es')"
   ]
  },
  {
   "cell_type": "markdown",
   "metadata": {},
   "source": [
    "#### Download, parse, and print the content from the Trending Developers page from GitHub:"
   ]
  },
  {
   "cell_type": "code",
   "execution_count": 54,
   "metadata": {},
   "outputs": [],
   "source": [
    "# This is the url you will scrape in this exercise\n",
    "url = 'https://github.com/trending/developers'"
   ]
  },
  {
   "cell_type": "code",
   "execution_count": 55,
   "metadata": {},
   "outputs": [],
   "source": [
    "driver.get('https://github.com/trending/developers')\n",
    "element=driver.find_elements(By.CLASS_NAME, 'h3.lh-condensed')\n",
    "\n",
    "#elements=driver.find_elements(By.CSS_SELECTOR, 'h1.h3_condensed')\n",
    "#texts = [elem.text for elem in elements]"
   ]
  },
  {
   "cell_type": "code",
   "execution_count": 56,
   "metadata": {},
   "outputs": [
    {
     "data": {
      "text/plain": [
       "25"
      ]
     },
     "execution_count": 56,
     "metadata": {},
     "output_type": "execute_result"
    }
   ],
   "source": [
    "len(element)"
   ]
  },
  {
   "cell_type": "code",
   "execution_count": 57,
   "metadata": {},
   "outputs": [
    {
     "data": {
      "text/plain": [
       "['Mattias Wadman',\n",
       " 'lllyasviel',\n",
       " 'Lianmin Zheng',\n",
       " 'Jerry Liu',\n",
       " 'Henrik Rydgård',\n",
       " 'Harrison Chase',\n",
       " 'Fons van der Plas',\n",
       " 'Steven Tey',\n",
       " 'Andreas Thomas',\n",
       " 'pilcrowOnPaper',\n",
       " 'Laurent Mazare',\n",
       " 'yetone',\n",
       " 'Tom Payne',\n",
       " 'Raphaël Benitte',\n",
       " 'Dillon Nys',\n",
       " 'Will McGugan',\n",
       " 'Luca Palmieri',\n",
       " 'Payton Swick',\n",
       " 'Martí Climent',\n",
       " 'dgtlmoon',\n",
       " 'Jelle Zijlstra',\n",
       " 'J. Nick Koston',\n",
       " 'Nuno Campos',\n",
       " 'Juliette',\n",
       " 'Lee Robinson']"
      ]
     },
     "execution_count": 57,
     "metadata": {},
     "output_type": "execute_result"
    }
   ],
   "source": [
    "names_list=[]\n",
    "for n in element:\n",
    "    names_list.append(n.text)\n",
    "\n",
    "names_list\n"
   ]
  },
  {
   "cell_type": "markdown",
   "metadata": {},
   "source": [
    "#### Display the names of the trending developers retrieved in the previous step.\n",
    "\n",
    "Your output should be a Python list of developer names. Each name should not contain any html tag.\n",
    "\n",
    "**Instructions:**\n",
    "\n",
    "1. Find out the html tag and class names used for the developer names.\n",
    "\n",
    "1. Use string manipulation techniques to replace whitespaces and linebreaks (i.e. `\\n`) in the *text* of each html element. Use a list to store the clean names.\n",
    "\n",
    "1. Print the list of names.\n",
    "\n",
    "Your output should look like below:\n",
    "\n",
    "```\n",
    "['trimstray (@trimstray)',\n",
    " 'joewalnes (JoeWalnes)',\n",
    " 'charlax (Charles-AxelDein)',\n",
    " 'ForrestKnight (ForrestKnight)',\n",
    " 'revery-ui (revery-ui)',\n",
    " 'alibaba (Alibaba)',\n",
    " 'Microsoft (Microsoft)',\n",
    " 'github (GitHub)',\n",
    " 'facebook (Facebook)',\n",
    " 'boazsegev (Bo)',\n",
    " 'google (Google)',\n",
    " 'cloudfetch',\n",
    " 'sindresorhus (SindreSorhus)',\n",
    " 'tensorflow',\n",
    " 'apache (TheApacheSoftwareFoundation)',\n",
    " 'DevonCrawford (DevonCrawford)',\n",
    " 'ARMmbed (ArmMbed)',\n",
    " 'vuejs (vuejs)',\n",
    " 'fastai (fast.ai)',\n",
    " 'QiShaoXuan (Qi)',\n",
    " 'joelparkerhenderson (JoelParkerHenderson)',\n",
    " 'torvalds (LinusTorvalds)',\n",
    " 'CyC2018',\n",
    " 'komeiji-satori (神楽坂覚々)',\n",
    " 'script-8']\n",
    " ```"
   ]
  },
  {
   "cell_type": "markdown",
   "metadata": {},
   "source": [
    "#### Display the trending Python repositories in GitHub\n",
    "\n",
    "The steps to solve this problem is similar to the previous one except that you need to find out the repository names instead of developer names."
   ]
  },
  {
   "cell_type": "code",
   "execution_count": 58,
   "metadata": {},
   "outputs": [],
   "source": [
    "driver.get('https://github.com/trending/python?since=daily')\n",
    "element=driver.find_elements(By.CLASS_NAME, 'h3.lh-condensed')\n",
    "\n"
   ]
  },
  {
   "cell_type": "code",
   "execution_count": 59,
   "metadata": {},
   "outputs": [
    {
     "data": {
      "text/plain": [
       "['mlc-ai / mlc-llm',\n",
       " 'AIGC-Audio / AudioGPT',\n",
       " 'gventuri / pandas-ai',\n",
       " 'xtekky / gpt4free',\n",
       " 'irgolic / AutoPR',\n",
       " 'lamini-ai / lamini',\n",
       " 'deep-floyd / IF',\n",
       " 'deforum-art / deforum-stable-diffusion',\n",
       " 'home-assistant / core',\n",
       " 'cirediatpl / FigmaChain',\n",
       " 'IntelligenzaArtificiale / Free-AUTO-GPT-with-NO-API',\n",
       " 'mlc-ai / web-llm',\n",
       " 'AUTOMATIC1111 / stable-diffusion-webui',\n",
       " 'ddPn08 / Radiata',\n",
       " 'deforum-art / deforum-for-automatic1111-webui',\n",
       " 'ZrrSkywalker / LLaMA-Adapter',\n",
       " 'yt-dlp / yt-dlp',\n",
       " 'nlpxucan / WizardLM',\n",
       " 'GitHubDaily / ChatGPT-Prompt-Engineering-for-Developers-in-Chinese',\n",
       " 'georgia-tech-db / eva',\n",
       " 'xtekky / chatgpt-clone',\n",
       " 'mahdibland / V2RayAggregator',\n",
       " 'KurtBestor / Hitomi-Downloader',\n",
       " 'jaywalnut310 / vits',\n",
       " 'isaiahbjork / Auto-GPT-Crypto-Plugin']"
      ]
     },
     "execution_count": 59,
     "metadata": {},
     "output_type": "execute_result"
    }
   ],
   "source": [
    "repos=[]\n",
    "for n in element:\n",
    "    repos.append(n.text)\n",
    "\n",
    "repos"
   ]
  },
  {
   "cell_type": "markdown",
   "metadata": {},
   "source": [
    "#### Display all the image links from Walt Disney wikipedia page"
   ]
  },
  {
   "cell_type": "code",
   "execution_count": 60,
   "metadata": {},
   "outputs": [],
   "source": [
    "driver.get('https://en.wikipedia.org/wiki/Walt_Disney')\n",
    "element = driver.find_elements(By.CLASS_NAME, 'thumbinner')"
   ]
  },
  {
   "cell_type": "code",
   "execution_count": 61,
   "metadata": {},
   "outputs": [
    {
     "data": {
      "text/plain": [
       "\"Disney's childhood home\""
      ]
     },
     "execution_count": 61,
     "metadata": {},
     "output_type": "execute_result"
    }
   ],
   "source": [
    "element[0].text"
   ]
  },
  {
   "cell_type": "code",
   "execution_count": 62,
   "metadata": {},
   "outputs": [
    {
     "data": {
      "text/plain": [
       "['https://en.wikipedia.org/wiki/File:Walt_Disney_Birthplace_Exterior_Hermosa_Chicago_Illinois.jpg',\n",
       " 'https://en.wikipedia.org/wiki/File:Walt_Disney_envelope_ca._1921.jpg',\n",
       " 'https://en.wikipedia.org/wiki/File:Newman_Laugh-O-Gram_(1921).webm',\n",
       " 'https://en.wikipedia.org/wiki/File:Trolley_Troubles_poster.jpg',\n",
       " 'https://en.wikipedia.org/wiki/File:Steamboat-willie.jpg',\n",
       " 'https://en.wikipedia.org/wiki/File:Walt_Disney_1935.jpg',\n",
       " 'https://en.wikipedia.org/wiki/File:Walt_Disney_Snow_white_1937_trailer_screenshot_(13).jpg',\n",
       " 'https://en.wikipedia.org/wiki/File:Disney_drawing_goofy.jpg',\n",
       " 'https://en.wikipedia.org/wiki/File:WaltDisneyplansDisneylandDec1954.jpg',\n",
       " 'https://en.wikipedia.org/wiki/File:Walt_disney_portrait_right.jpg',\n",
       " 'https://en.wikipedia.org/wiki/File:Walt_Disney_Grave.JPG',\n",
       " 'https://en.wikipedia.org/wiki/File:Roy_O._Disney_with_Company_at_Press_Conference.jpg',\n",
       " 'https://en.wikipedia.org/wiki/File:DisneySchiphol1951.jpg',\n",
       " 'https://en.wikipedia.org/wiki/File:Disney1968.jpg',\n",
       " 'https://en.wikipedia.org/wiki/File:Disney_Oscar_1953_(cropped).jpg']"
      ]
     },
     "execution_count": 62,
     "metadata": {},
     "output_type": "execute_result"
    }
   ],
   "source": [
    "href=[]\n",
    "for n in element:\n",
    "    link=n.find_element(By.TAG_NAME, 'a').get_attribute('href')\n",
    "    href.append(link)\n",
    "href"
   ]
  },
  {
   "cell_type": "markdown",
   "metadata": {},
   "source": [
    "#### Retrieve an arbitary Wikipedia page of \"Python\" and create a list of links on that page"
   ]
  },
  {
   "cell_type": "code",
   "execution_count": 63,
   "metadata": {},
   "outputs": [
    {
     "name": "stdout",
     "output_type": "stream",
     "text": [
      "['https://en.wikipedia.org/wiki/Python_of_Aenus#bodyContent', 'https://en.wikipedia.org/wiki/Main_Page', 'https://en.wikipedia.org/wiki/Wikipedia:Contents', 'https://en.wikipedia.org/wiki/Portal:Current_events', 'https://en.wikipedia.org/wiki/Special:Random', 'https://en.wikipedia.org/wiki/Wikipedia:About', 'https://en.wikipedia.org/wiki/Wikipedia:Contact_us', 'https://donate.wikimedia.org/wiki/Special:FundraiserRedirector?utm_source=donate&utm_medium=sidebar&utm_campaign=C13_en.wikipedia.org&uselang=en', 'https://en.wikipedia.org/wiki/Help:Contents', 'https://en.wikipedia.org/wiki/Help:Introduction', 'https://en.wikipedia.org/wiki/Wikipedia:Community_portal', 'https://en.wikipedia.org/wiki/Special:RecentChanges', 'https://en.wikipedia.org/wiki/Wikipedia:File_upload_wizard', 'https://en.wikipedia.org/wiki/Main_Page', 'https://en.wikipedia.org/wiki/Special:Search', 'https://en.wikipedia.org/w/index.php?title=Special:CreateAccount&returnto=Python+of+Aenus', 'https://en.wikipedia.org/w/index.php?title=Special:UserLogin&returnto=Python+of+Aenus', 'https://en.wikipedia.org/w/index.php?title=Special:CreateAccount&returnto=Python+of+Aenus', 'https://en.wikipedia.org/w/index.php?title=Special:UserLogin&returnto=Python+of+Aenus', 'https://en.wikipedia.org/wiki/Help:Introduction', 'https://en.wikipedia.org/wiki/Special:MyContributions', 'https://en.wikipedia.org/wiki/Special:MyTalk', 'https://en.wikipedia.org/wiki/Python_of_Aenus#', 'https://en.wikipedia.org/wiki/Python_of_Aenus#References', 'https://ca.wikipedia.org/wiki/Pit%C3%B3_d%27Enos', 'https://it.wikipedia.org/wiki/Pitone_di_Eno', 'https://ps.wikipedia.org/wiki/%D9%BE%D9%8A%D8%AA%D9%88%D9%86_%D8%A7%DB%90%D9%86%D9%88%D8%B3%D9%8A', 'https://www.wikidata.org/wiki/Special:EntityPage/Q7263937#sitelinks-wikipedia', 'https://en.wikipedia.org/wiki/Python_of_Aenus', 'https://en.wikipedia.org/wiki/Talk:Python_of_Aenus', 'https://en.wikipedia.org/wiki/Python_of_Aenus', 'https://en.wikipedia.org/w/index.php?title=Python_of_Aenus&action=edit', 'https://en.wikipedia.org/w/index.php?title=Python_of_Aenus&action=history', 'https://en.wikipedia.org/wiki/Python_of_Aenus', 'https://en.wikipedia.org/w/index.php?title=Python_of_Aenus&action=edit', 'https://en.wikipedia.org/w/index.php?title=Python_of_Aenus&action=history', 'https://en.wikipedia.org/wiki/Special:WhatLinksHere/Python_of_Aenus', 'https://en.wikipedia.org/wiki/Special:RecentChangesLinked/Python_of_Aenus', 'https://en.wikipedia.org/wiki/Wikipedia:File_Upload_Wizard', 'https://en.wikipedia.org/wiki/Special:SpecialPages', 'https://en.wikipedia.org/w/index.php?title=Python_of_Aenus&oldid=1016935177', 'https://en.wikipedia.org/w/index.php?title=Python_of_Aenus&action=info', 'https://en.wikipedia.org/w/index.php?title=Special:CiteThisPage&page=Python_of_Aenus&id=1016935177&wpFormIdentifier=titleform', 'https://www.wikidata.org/wiki/Special:EntityPage/Q7263937', 'https://www.wikidata.org/wiki/Special:EntityPage/Q7263937#sitelinks-wikipedia', 'https://en.wikipedia.org/w/index.php?title=Special:DownloadAsPdf&page=Python_of_Aenus&action=show-download-screen', 'https://en.wikipedia.org/w/index.php?title=Python_of_Aenus&printable=yes', 'https://en.wikipedia.org/wiki/Python_(disambiguation)', 'https://en.wikipedia.org/wiki/Enez', 'https://en.wikipedia.org/wiki/Help:IPA/English', 'https://en.wikipedia.org/wiki/Greek_language', 'https://en.wikipedia.org/wiki/Greek_philosophy', 'https://en.wikipedia.org/wiki/Plato', 'https://en.wikipedia.org/wiki/Python_of_Aenus#cite_note-1', 'https://en.wikipedia.org/wiki/Heraclides_of_Aenus', 'https://en.wikipedia.org/wiki/Cotys_I_(Odrysian)', 'https://en.wikipedia.org/wiki/Thrace', 'https://en.wikipedia.org/wiki/Python_of_Aenus#cite_note-2', 'https://en.wikipedia.org/wiki/Demosthenes', 'https://en.wikipedia.org/wiki/Python_of_Byzantium', 'https://en.wikipedia.org/wiki/Python_of_Aenus#cite_note-3', 'https://en.wikipedia.org/w/index.php?title=Python_of_Aenus&action=edit&section=1', 'https://en.wikipedia.org/wiki/Python_of_Aenus#cite_ref-1', 'https://en.wikipedia.org/wiki/Diogenes_La%C3%ABrtius', 'https://en.wikipedia.org/wiki/Python_of_Aenus#cite_ref-2', 'https://en.wikipedia.org/wiki/Aristotle', 'https://en.wikipedia.org/wiki/Plutarch', 'https://en.wikipedia.org/wiki/Python_of_Aenus#cite_ref-3', 'https://en.wikipedia.org/wiki/ISBN_(identifier)', 'https://en.wikipedia.org/wiki/Special:BookSources/3-515-08396-0', 'https://en.wikipedia.org/wiki/File:Plato.png', 'https://en.wikipedia.org/wiki/Wikipedia:Stub', 'https://en.wikipedia.org/w/index.php?title=Python_of_Aenus&action=edit', 'https://en.wikipedia.org/wiki/Template:AncientGreece-bio-stub', 'https://en.wikipedia.org/wiki/Template_talk:AncientGreece-bio-stub', 'https://en.wikipedia.org/w/index.php?title=Template:AncientGreece-bio-stub&action=edit', 'https://en.wikipedia.org/wiki/File:Socrates_thumb.png', 'https://en.wikipedia.org/wiki/Wikipedia:Stub', 'https://en.wikipedia.org/w/index.php?title=Python_of_Aenus&action=edit', 'https://en.wikipedia.org/wiki/Template:Greece-philosopher-stub', 'https://en.wikipedia.org/wiki/Template_talk:Greece-philosopher-stub', 'https://en.wikipedia.org/w/index.php?title=Template:Greece-philosopher-stub&action=edit', 'https://en.wikipedia.org/w/index.php?title=Python_of_Aenus&oldid=1016935177', 'https://en.wikipedia.org/wiki/Help:Category', 'https://en.wikipedia.org/wiki/Category:4th-century_BC_Greek_people', 'https://en.wikipedia.org/wiki/Category:4th-century_BC_philosophers', 'https://en.wikipedia.org/wiki/Category:Academic_philosophers', 'https://en.wikipedia.org/wiki/Category:Ancient_Thracian_Greeks', 'https://en.wikipedia.org/wiki/Category:Students_of_Plato', 'https://en.wikipedia.org/wiki/Category:Ancient_Greek_people_stubs', 'https://en.wikipedia.org/wiki/Category:Greek_philosopher_stubs', 'https://en.wikipedia.org/wiki/Category:Articles_containing_Greek-language_text', 'https://en.wikipedia.org/wiki/Category:All_stub_articles', 'https://en.wikipedia.org/wiki/Wikipedia:Text_of_the_Creative_Commons_Attribution-ShareAlike_3.0_Unported_License', 'https://creativecommons.org/licenses/by-sa/3.0/', 'https://foundation.wikimedia.org/wiki/Terms_of_Use', 'https://foundation.wikimedia.org/wiki/Privacy_policy', 'https://www.wikimediafoundation.org/', 'https://foundation.wikimedia.org/wiki/Privacy_policy', 'https://en.wikipedia.org/wiki/Wikipedia:About', 'https://en.wikipedia.org/wiki/Wikipedia:General_disclaimer', 'https://en.wikipedia.org/wiki/Wikipedia:Contact_us', 'https://en.m.wikipedia.org/w/index.php?title=Python_of_Aenus&mobileaction=toggle_view_mobile', 'https://developer.wikimedia.org/', 'https://stats.wikimedia.org/#/en.wikipedia.org', 'https://foundation.wikimedia.org/wiki/Cookie_statement', 'https://en.wikipedia.org/wiki/Python_of_Aenus#', 'https://wikimediafoundation.org/', 'https://www.mediawiki.org/']\n"
     ]
    }
   ],
   "source": [
    "driver.get('https://en.wikipedia.org/wiki/Python_of_Aenus')\n",
    "aenus_elements = driver.find_elements(By.TAG_NAME, 'a')\n",
    "aenus_links = []\n",
    "for element in aenus_elements:\n",
    "    link = element.get_attribute('href')\n",
    "    aenus_links.append(link)\n",
    "print(aenus_links)"
   ]
  },
  {
   "cell_type": "markdown",
   "metadata": {},
   "source": [
    "#### Number of Titles that have changed in the United States Code since its last release point "
   ]
  },
  {
   "cell_type": "code",
   "execution_count": 64,
   "metadata": {},
   "outputs": [],
   "source": [
    "driver.get('http://uscode.house.gov/download/download.shtml')\n",
    "usa=driver.find_elements(By.CLASS_NAME, 'usctitlechanged')\n",
    "\n"
   ]
  },
  {
   "cell_type": "code",
   "execution_count": 65,
   "metadata": {},
   "outputs": [
    {
     "data": {
      "text/plain": [
       "37"
      ]
     },
     "execution_count": 65,
     "metadata": {},
     "output_type": "execute_result"
    }
   ],
   "source": [
    "len(usa)"
   ]
  },
  {
   "cell_type": "code",
   "execution_count": 66,
   "metadata": {},
   "outputs": [],
   "source": [
    "titles=[]\n",
    "for n in usa:\n",
    "    titles.append(n.text)\n",
    "\n",
    "#titles"
   ]
  },
  {
   "cell_type": "markdown",
   "metadata": {},
   "source": [
    "#### A Python list with the top ten FBI's Most Wanted names "
   ]
  },
  {
   "cell_type": "code",
   "execution_count": 67,
   "metadata": {},
   "outputs": [],
   "source": [
    "# This is the url you will scrape in this exercise\n",
    "driver.get('https://www.fbi.gov/wanted/topten')\n",
    "FBI=driver.find_elements(By.CLASS_NAME, 'title')"
   ]
  },
  {
   "cell_type": "code",
   "execution_count": 68,
   "metadata": {},
   "outputs": [
    {
     "data": {
      "text/plain": [
       "11"
      ]
     },
     "execution_count": 68,
     "metadata": {},
     "output_type": "execute_result"
    }
   ],
   "source": [
    "len(FBI)"
   ]
  },
  {
   "cell_type": "code",
   "execution_count": 69,
   "metadata": {},
   "outputs": [
    {
     "data": {
      "text/plain": [
       "['BHADRESHKUMAR CHETANBHAI PATEL',\n",
       " 'WILVER VILLEGAS-PALOMINO',\n",
       " 'ALEJANDRO ROSALES CASTILLO',\n",
       " 'RUJA IGNATOVA',\n",
       " 'ARNOLDO JIMENEZ',\n",
       " 'OMAR ALEXANDER CARDENAS',\n",
       " 'ALEXIS FLORES',\n",
       " 'YULAN ADONAY ARCHAGA CARIAS',\n",
       " 'MICHAEL JAMES PRATT',\n",
       " 'JOSE RODOLFO VILLARREAL-HERNANDEZ']"
      ]
     },
     "execution_count": 69,
     "metadata": {},
     "output_type": "execute_result"
    }
   ],
   "source": [
    "most_wanted=[]\n",
    "for n in FBI[1:]:\n",
    "    most_wanted.append(n.text)\n",
    "most_wanted"
   ]
  },
  {
   "cell_type": "markdown",
   "metadata": {},
   "source": [
    "####  20 latest earthquakes info (date, time, latitude, longitude and region name) by the EMSC as a pandas dataframe"
   ]
  },
  {
   "cell_type": "code",
   "execution_count": 124,
   "metadata": {},
   "outputs": [],
   "source": [
    "# This is the url you will scrape in this exercise\n",
    "#driver.get('https://www.emsc-csem.org/Earthquake/')"
   ]
  },
  {
   "cell_type": "code",
   "execution_count": 134,
   "metadata": {},
   "outputs": [],
   "source": [
    "#sismo=driver.find_elements(By.ID, 'haut_tableau')"
   ]
  },
  {
   "cell_type": "code",
   "execution_count": 212,
   "metadata": {},
   "outputs": [],
   "source": [
    "# #header=[]\n",
    "# for n in sismo:\n",
    "#     header.append(sismo.text)\n"
   ]
  },
  {
   "cell_type": "code",
   "execution_count": 213,
   "metadata": {},
   "outputs": [],
   "source": [
    "#sismo=sismo.tolist"
   ]
  },
  {
   "cell_type": "code",
   "execution_count": 214,
   "metadata": {},
   "outputs": [],
   "source": [
    "#header= [re.sub(r'\\W+', '', col) for col in sismo if col.strip()]"
   ]
  },
  {
   "cell_type": "code",
   "execution_count": 215,
   "metadata": {},
   "outputs": [],
   "source": [
    "#sismo_cuerpo=driver.find_elements(By.ID, 'tbody')"
   ]
  },
  {
   "cell_type": "code",
   "execution_count": 216,
   "metadata": {},
   "outputs": [],
   "source": [
    "#sismo_cuerpo[0].text"
   ]
  },
  {
   "cell_type": "code",
   "execution_count": 217,
   "metadata": {},
   "outputs": [],
   "source": [
    "# headers = [header.text for header in sismo]\n",
    "# rows = []\n",
    "# for row in sismo_cuerpo:\n",
    "#     rows.append([cell.text for cell in row])\n",
    "\n",
    "# df = pd.DataFrame(data=rows, columns=headers)"
   ]
  },
  {
   "cell_type": "markdown",
   "metadata": {},
   "source": [
    "#### Count number of tweets by a given Twitter account."
   ]
  },
  {
   "cell_type": "markdown",
   "metadata": {},
   "source": [
    "You will need to include a ***try/except block*** for account names not found. \n",
    "<br>***Hint:*** the program should count the number of tweets for any provided account"
   ]
  },
  {
   "cell_type": "code",
   "execution_count": 209,
   "metadata": {},
   "outputs": [],
   "source": [
    "driver.get('https://twitter.com/laveneno')\n"
   ]
  },
  {
   "cell_type": "code",
   "execution_count": 210,
   "metadata": {},
   "outputs": [],
   "source": [
    "twips=driver.find_element(By.CSS_SELECTOR, '#react-root > div > div > div.css-1dbjc4n.r-18u37iz.r-13qz1uu.r-417010 > main > div > div > div > div > div > div.css-1dbjc4n.r-aqfbo4.r-gtdqiz.r-1gn8etr.r-1g40b8q > div:nth-child(1) > div > div > div > div > div > div.css-1dbjc4n.r-16y2uox.r-1wbh5a2.r-1pi2tsx.r-1777fci > div > div').text"
   ]
  },
  {
   "cell_type": "code",
   "execution_count": 211,
   "metadata": {},
   "outputs": [
    {
     "data": {
      "text/plain": [
       "'1,552 Tweets'"
      ]
     },
     "execution_count": 211,
     "metadata": {},
     "output_type": "execute_result"
    }
   ],
   "source": [
    "twips"
   ]
  },
  {
   "cell_type": "markdown",
   "metadata": {},
   "source": [
    "#### Number of followers of a given twitter account"
   ]
  },
  {
   "cell_type": "markdown",
   "metadata": {},
   "source": [
    "You will need to include a ***try/except block*** in case account/s name not found. \n",
    "<br>***Hint:*** the program should count the followers for any provided account"
   ]
  },
  {
   "cell_type": "code",
   "execution_count": 202,
   "metadata": {},
   "outputs": [],
   "source": [
    "# This is the url you will scrape in this exercise \n",
    "# You will need to add the account credentials to this url\n",
    "driver.get('https://twitter.com/laveneno')\n",
    "flowers=driver.find_element(By.CSS_SELECTOR, '#react-root > div > div > div.css-1dbjc4n.r-18u37iz.r-13qz1uu.r-417010 > main > div > div > div > div > div > div:nth-child(3) > div > div > div > div > div.css-1dbjc4n.r-13awgt0.r-18u37iz.r-1w6e6rj > div:nth-child(2) > a').text"
   ]
  },
  {
   "cell_type": "code",
   "execution_count": 203,
   "metadata": {},
   "outputs": [
    {
     "data": {
      "text/plain": [
       "'410 Followers'"
      ]
     },
     "execution_count": 203,
     "metadata": {},
     "output_type": "execute_result"
    }
   ],
   "source": [
    "flowers"
   ]
  },
  {
   "cell_type": "markdown",
   "metadata": {},
   "source": [
    "#### List all language names and number of related articles in the order they appear in wikipedia.org"
   ]
  },
  {
   "cell_type": "code",
   "execution_count": 120,
   "metadata": {},
   "outputs": [],
   "source": [
    "driver.get('https://www.wikipedia.org/')\n",
    "idiomas=driver.find_elements(By.CLASS_NAME, 'link-box')"
   ]
  },
  {
   "cell_type": "code",
   "execution_count": 122,
   "metadata": {},
   "outputs": [
    {
     "data": {
      "text/plain": [
       "[['English', '6 644 000+ articles'],\n",
       " ['Русский', '1 909 000+ статей'],\n",
       " ['日本語', '1 370 000+ 記事'],\n",
       " ['Deutsch', '2 792 000+ Artikel'],\n",
       " ['Español', '1 854 000+ artículos'],\n",
       " ['Français', '2 514 000+ articles'],\n",
       " ['Italiano', '1 806 000+ voci'],\n",
       " ['中文', '1 347 000+ 条目 / 條目'],\n",
       " ['فارسی', '959 000+ مقاله'],\n",
       " ['Português', '1 101 000+ artigos']]"
      ]
     },
     "execution_count": 122,
     "metadata": {},
     "output_type": "execute_result"
    }
   ],
   "source": [
    "result=[]\n",
    "for n in idiomas:\n",
    "    result.append(n.text.split('\\n'))\n",
    "result"
   ]
  },
  {
   "cell_type": "markdown",
   "metadata": {},
   "source": [
    "#### A list with the different kind of datasets available in data.gov.uk "
   ]
  },
  {
   "cell_type": "code",
   "execution_count": 147,
   "metadata": {},
   "outputs": [],
   "source": [
    "driver.get('https://data.gov.uk/')\n",
    "cat=driver.find_elements(By.CLASS_NAME, 'govuk-heading-s.dgu-topics__heading')"
   ]
  },
  {
   "cell_type": "code",
   "execution_count": 148,
   "metadata": {},
   "outputs": [
    {
     "data": {
      "text/plain": [
       "['Business and economy',\n",
       " 'Crime and justice',\n",
       " 'Defence',\n",
       " 'Education',\n",
       " 'Environment',\n",
       " 'Government',\n",
       " 'Government spending',\n",
       " 'Health',\n",
       " 'Mapping',\n",
       " 'Society',\n",
       " 'Towns and cities',\n",
       " 'Transport',\n",
       " 'Digital service performance',\n",
       " 'Government reference data']"
      ]
     },
     "execution_count": 148,
     "metadata": {},
     "output_type": "execute_result"
    }
   ],
   "source": [
    "cat_tits=[]\n",
    "for n in cat:\n",
    "    cat_tits.append(n.text)\n",
    "cat_tits"
   ]
  },
  {
   "cell_type": "markdown",
   "metadata": {},
   "source": [
    "#### Top 10 languages by number of native speakers stored in a Pandas Dataframe"
   ]
  },
  {
   "cell_type": "code",
   "execution_count": 149,
   "metadata": {},
   "outputs": [],
   "source": [
    "driver.get('https://en.wikipedia.org/wiki/List_of_languages_by_number_of_native_speakers')"
   ]
  },
  {
   "cell_type": "code",
   "execution_count": 156,
   "metadata": {},
   "outputs": [],
   "source": [
    "tabla= driver.find_elements(By.CLASS_NAME, 'wikitable.sortable.static-row-numbers.jquery-tablesorter')"
   ]
  },
  {
   "cell_type": "code",
   "execution_count": 170,
   "metadata": {},
   "outputs": [],
   "source": [
    "headers = [header.text for header in tabla[0].find_elements(By.TAG_NAME, \"th\")]"
   ]
  },
  {
   "cell_type": "code",
   "execution_count": 171,
   "metadata": {},
   "outputs": [
    {
     "data": {
      "text/plain": [
       "['Language', 'Native speakers\\n(millions)', 'Language family', 'Branch']"
      ]
     },
     "execution_count": 171,
     "metadata": {},
     "output_type": "execute_result"
    }
   ],
   "source": [
    "headers"
   ]
  },
  {
   "cell_type": "code",
   "execution_count": 167,
   "metadata": {},
   "outputs": [],
   "source": [
    "headers[1]=\"Native speakers (millions)\""
   ]
  },
  {
   "cell_type": "code",
   "execution_count": 174,
   "metadata": {},
   "outputs": [],
   "source": [
    "filas = []\n",
    "for row in tabla[0].find_elements(By.TAG_NAME, \"tr\"):\n",
    "    cells =[]\n",
    "    for c in row.find_elements(By.TAG_NAME, 'td'):\n",
    "        cells.append(c.text)\n",
    "    filas.append(cells)\n",
    "    "
   ]
  },
  {
   "cell_type": "code",
   "execution_count": 175,
   "metadata": {},
   "outputs": [],
   "source": [
    "wikitable=pd.DataFrame(data=filas, columns=headers)"
   ]
  },
  {
   "cell_type": "code",
   "execution_count": 177,
   "metadata": {},
   "outputs": [
    {
     "data": {
      "text/html": [
       "<div>\n",
       "<style scoped>\n",
       "    .dataframe tbody tr th:only-of-type {\n",
       "        vertical-align: middle;\n",
       "    }\n",
       "\n",
       "    .dataframe tbody tr th {\n",
       "        vertical-align: top;\n",
       "    }\n",
       "\n",
       "    .dataframe thead th {\n",
       "        text-align: right;\n",
       "    }\n",
       "</style>\n",
       "<table border=\"1\" class=\"dataframe\">\n",
       "  <thead>\n",
       "    <tr style=\"text-align: right;\">\n",
       "      <th></th>\n",
       "      <th>Language</th>\n",
       "      <th>Native speakers\\n(millions)</th>\n",
       "      <th>Language family</th>\n",
       "      <th>Branch</th>\n",
       "    </tr>\n",
       "  </thead>\n",
       "  <tbody>\n",
       "    <tr>\n",
       "      <th>0</th>\n",
       "      <td>None</td>\n",
       "      <td>None</td>\n",
       "      <td>None</td>\n",
       "      <td>None</td>\n",
       "    </tr>\n",
       "    <tr>\n",
       "      <th>1</th>\n",
       "      <td>Mandarin Chinese\\n(incl. Standard Chinese, but...</td>\n",
       "      <td>939</td>\n",
       "      <td>Sino-Tibetan</td>\n",
       "      <td>Sinitic</td>\n",
       "    </tr>\n",
       "    <tr>\n",
       "      <th>2</th>\n",
       "      <td>Spanish</td>\n",
       "      <td>485</td>\n",
       "      <td>Indo-European</td>\n",
       "      <td>Romance</td>\n",
       "    </tr>\n",
       "    <tr>\n",
       "      <th>3</th>\n",
       "      <td>English</td>\n",
       "      <td>380</td>\n",
       "      <td>Indo-European</td>\n",
       "      <td>Germanic</td>\n",
       "    </tr>\n",
       "    <tr>\n",
       "      <th>4</th>\n",
       "      <td>Hindi\\n(excl. Urdu, and other languages)</td>\n",
       "      <td>345</td>\n",
       "      <td>Indo-European</td>\n",
       "      <td>Indo-Aryan</td>\n",
       "    </tr>\n",
       "  </tbody>\n",
       "</table>\n",
       "</div>"
      ],
      "text/plain": [
       "                                            Language   \n",
       "0                                               None  \\\n",
       "1  Mandarin Chinese\\n(incl. Standard Chinese, but...   \n",
       "2                                            Spanish   \n",
       "3                                            English   \n",
       "4           Hindi\\n(excl. Urdu, and other languages)   \n",
       "\n",
       "  Native speakers\\n(millions) Language family      Branch  \n",
       "0                        None            None        None  \n",
       "1                         939    Sino-Tibetan     Sinitic  \n",
       "2                         485   Indo-European     Romance  \n",
       "3                         380   Indo-European    Germanic  \n",
       "4                         345   Indo-European  Indo-Aryan  "
      ]
     },
     "execution_count": 177,
     "metadata": {},
     "output_type": "execute_result"
    }
   ],
   "source": [
    "wikitable.head()"
   ]
  },
  {
   "cell_type": "markdown",
   "metadata": {},
   "source": [
    "### BONUS QUESTIONS"
   ]
  },
  {
   "cell_type": "markdown",
   "metadata": {},
   "source": [
    "#### Scrape a certain number of tweets of a given Twitter account."
   ]
  },
  {
   "cell_type": "code",
   "execution_count": 82,
   "metadata": {},
   "outputs": [],
   "source": [
    "# This is the url you will scrape in this exercise \n",
    "# You will need to add the account credentials to this url\n",
    "url = 'https://twitter.com/'"
   ]
  },
  {
   "cell_type": "code",
   "execution_count": 83,
   "metadata": {},
   "outputs": [],
   "source": [
    "# your code"
   ]
  },
  {
   "cell_type": "markdown",
   "metadata": {},
   "source": [
    "#### IMDB's Top 250 data (movie name, Initial release, director name and stars) as a pandas dataframe"
   ]
  },
  {
   "cell_type": "code",
   "execution_count": 84,
   "metadata": {},
   "outputs": [],
   "source": [
    "# This is the url you will scrape in this exercise \n",
    "url = 'https://www.imdb.com/chart/top'"
   ]
  },
  {
   "cell_type": "code",
   "execution_count": 85,
   "metadata": {},
   "outputs": [],
   "source": [
    "# your code"
   ]
  },
  {
   "cell_type": "markdown",
   "metadata": {},
   "source": [
    "#### Movie name, year and a brief summary of the top 10 random movies (IMDB) as a pandas dataframe."
   ]
  },
  {
   "cell_type": "code",
   "execution_count": 86,
   "metadata": {},
   "outputs": [],
   "source": [
    "#This is the url you will scrape in this exercise\n",
    "url = 'http://www.imdb.com/chart/top'"
   ]
  },
  {
   "cell_type": "code",
   "execution_count": 87,
   "metadata": {},
   "outputs": [],
   "source": [
    "#your code"
   ]
  },
  {
   "cell_type": "markdown",
   "metadata": {},
   "source": [
    "#### Find the live weather report (temperature, wind speed, description and weather) of a given city."
   ]
  },
  {
   "cell_type": "code",
   "execution_count": 88,
   "metadata": {},
   "outputs": [],
   "source": [
    "#https://openweathermap.org/current\n",
    "city = city=input('Enter the city:')\n",
    "url = 'http://api.openweathermap.org/data/2.5/weather?'+'q='+city+'&APPID=b35975e18dc93725acb092f7272cc6b8&units=metric'"
   ]
  },
  {
   "cell_type": "code",
   "execution_count": 89,
   "metadata": {},
   "outputs": [],
   "source": [
    "# your code"
   ]
  },
  {
   "cell_type": "markdown",
   "metadata": {},
   "source": [
    "#### Book name,price and stock availability as a pandas dataframe."
   ]
  },
  {
   "cell_type": "code",
   "execution_count": 90,
   "metadata": {},
   "outputs": [],
   "source": [
    "# This is the url you will scrape in this exercise. \n",
    "# It is a fictional bookstore created to be scraped. \n",
    "url = 'http://books.toscrape.com/'"
   ]
  },
  {
   "cell_type": "code",
   "execution_count": 91,
   "metadata": {},
   "outputs": [],
   "source": [
    "#your code"
   ]
  }
 ],
 "metadata": {
  "kernelspec": {
   "display_name": "Python 3",
   "language": "python",
   "name": "python3"
  },
  "language_info": {
   "codemirror_mode": {
    "name": "ipython",
    "version": 3
   },
   "file_extension": ".py",
   "mimetype": "text/x-python",
   "name": "python",
   "nbconvert_exporter": "python",
   "pygments_lexer": "ipython3",
   "version": "3.11.2"
  }
 },
 "nbformat": 4,
 "nbformat_minor": 2
}
